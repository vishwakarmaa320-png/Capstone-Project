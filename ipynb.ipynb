{
 "cells": [
  {
   "cell_type": "code",
   "execution_count": 1,
   "id": "fb88c443-391a-4c2c-be11-2f8ed5878786",
   "metadata": {},
   "outputs": [],
   "source": [
    "import numpy as np\n",
    "import pandas as pd"
   ]
  },
  {
   "cell_type": "code",
   "execution_count": null,
   "id": "ae1c6d11-c5fa-4f7f-bb31-a824070b3d80",
   "metadata": {},
   "outputs": [],
   "source": [
    "#Task 1:"
   ]
  },
  {
   "cell_type": "code",
   "execution_count": 77,
   "id": "a16eb74b-da45-4fce-a1b8-a69abf53c329",
   "metadata": {},
   "outputs": [],
   "source": [
    "employee_data = {\n",
    "    'ID': ['A001', 'A002', 'A003', 'A004', 'A005'],\n",
    "    'Name': ['John Alter', 'Alice Luxumberg', 'Tom Sabestine', 'Nina Adgra', 'Amy Johny'],\n",
    "    'Gender': ['M', 'F', 'M', 'F', 'F'],\n",
    "    'City': ['Paris', 'London', 'Berlin', 'Newyork', 'Madrid'],\n",
    "    'Age': [25, 27, 29, 31, 30]\n",
    "}\n",
    "\n",
    "employee_df = pd.DataFrame(employee_data)\n",
    "employee_df.to_csv('Employee.csv', index=False)"
   ]
  },
  {
   "cell_type": "code",
   "execution_count": 79,
   "id": "c3eed534-6ee7-4897-8593-e574c7819d6f",
   "metadata": {},
   "outputs": [
    {
     "data": {
      "text/plain": [
       "{'ID': ['A001', 'A002', 'A003', 'A004', 'A005'],\n",
       " 'Name': ['John Alter',\n",
       "  'Alice Luxumberg',\n",
       "  'Tom Sabestine',\n",
       "  'Nina Adgra',\n",
       "  'Amy Johny'],\n",
       " 'Gender': ['M', 'F', 'M', 'F', 'F'],\n",
       " 'City': ['Paris', 'London', 'Berlin', 'Newyork', 'Madrid'],\n",
       " 'Age': [25, 27, 29, 31, 30]}"
      ]
     },
     "execution_count": 79,
     "metadata": {},
     "output_type": "execute_result"
    }
   ],
   "source": [
    "employee_data"
   ]
  },
  {
   "cell_type": "code",
   "execution_count": 78,
   "id": "c3d8138c-1edd-42b4-a471-6c2510036350",
   "metadata": {},
   "outputs": [],
   "source": [
    "seniority_data = {\n",
    "    'ID': ['A001', 'A002', 'A003', 'A004', 'A005'],\n",
    "    'Designation Level': [2, 2, 3, 2, 3]\n",
    "}\n",
    "\n",
    "seniority_df = pd.DataFrame(seniority_data)\n",
    "seniority_df.to_csv('Seniority_Level.csv', index=False)"
   ]
  },
  {
   "cell_type": "code",
   "execution_count": 80,
   "id": "6cd7502c-a4ef-47d7-bf12-9a7795ec4563",
   "metadata": {},
   "outputs": [
    {
     "data": {
      "text/plain": [
       "{'ID': ['A001', 'A002', 'A003', 'A004', 'A005'],\n",
       " 'Designation Level': [2, 2, 3, 2, 3]}"
      ]
     },
     "execution_count": 80,
     "metadata": {},
     "output_type": "execute_result"
    }
   ],
   "source": [
    "seniority_data"
   ]
  },
  {
   "cell_type": "code",
   "execution_count": 67,
   "id": "797b0037-e4db-4571-bf0b-fd004f9e423c",
   "metadata": {},
   "outputs": [],
   "source": [
    "project_data = {\n",
    "    'ID': ['A001', 'A002', 'A003', 'A004', 'A005', 'A002', 'A005', 'A003', 'A001', 'A003', 'A001', 'A004', 'A004', 'A005'],\n",
    "    'Project': ['Project 1', 'Project 2', 'Project 3', 'Project 4', 'Project 5', 'Project 6', 'Project 7',\n",
    "                'Project 8', 'Project 9', 'Project 10', 'Project 11', 'Project 12', 'Project 13', 'Project 14'],\n",
    "    'Cost': [1002000, 2000000, 4500000, 5500000, None, 680000, 400000, 350000, None, 300000, 2000000, 1000000, 3000000, 200000],\n",
    "    'Status': ['Finished', 'Ongoing', 'Finished', 'Ongoing', 'Finished', 'Failed', 'Finished',\n",
    "               'Failed', 'Ongoing', 'Finished', 'Failed', 'Ongoing', 'Finished', 'Finished']\n",
    "}\n",
    "\n",
    "project_df = pd.DataFrame(project_data)\n",
    "project_df.to_csv('Project.csv', index=False)"
   ]
  },
  {
   "cell_type": "code",
   "execution_count": 81,
   "id": "6db7e3e3-561b-4c2d-b289-ec8ed67d9aa9",
   "metadata": {},
   "outputs": [
    {
     "data": {
      "text/plain": [
       "{'ID': ['A001',\n",
       "  'A002',\n",
       "  'A003',\n",
       "  'A004',\n",
       "  'A005',\n",
       "  'A002',\n",
       "  'A005',\n",
       "  'A003',\n",
       "  'A001',\n",
       "  'A003',\n",
       "  'A001',\n",
       "  'A004',\n",
       "  'A004',\n",
       "  'A005'],\n",
       " 'Project': ['Project 1',\n",
       "  'Project 2',\n",
       "  'Project 3',\n",
       "  'Project 4',\n",
       "  'Project 5',\n",
       "  'Project 6',\n",
       "  'Project 7',\n",
       "  'Project 8',\n",
       "  'Project 9',\n",
       "  'Project 10',\n",
       "  'Project 11',\n",
       "  'Project 12',\n",
       "  'Project 13',\n",
       "  'Project 14'],\n",
       " 'Cost': [1002000,\n",
       "  2000000,\n",
       "  4500000,\n",
       "  5500000,\n",
       "  None,\n",
       "  680000,\n",
       "  400000,\n",
       "  350000,\n",
       "  None,\n",
       "  300000,\n",
       "  2000000,\n",
       "  1000000,\n",
       "  3000000,\n",
       "  200000],\n",
       " 'Status': ['Finished',\n",
       "  'Ongoing',\n",
       "  'Finished',\n",
       "  'Ongoing',\n",
       "  'Finished',\n",
       "  'Failed',\n",
       "  'Finished',\n",
       "  'Failed',\n",
       "  'Ongoing',\n",
       "  'Finished',\n",
       "  'Failed',\n",
       "  'Ongoing',\n",
       "  'Finished',\n",
       "  'Finished']}"
      ]
     },
     "execution_count": 81,
     "metadata": {},
     "output_type": "execute_result"
    }
   ],
   "source": [
    "project_data"
   ]
  },
  {
   "cell_type": "code",
   "execution_count": null,
   "id": "a94f54dc-0c9c-4892-9ba5-e0f456e866c3",
   "metadata": {},
   "outputs": [],
   "source": [
    "#Task 2:"
   ]
  },
  {
   "cell_type": "code",
   "execution_count": 82,
   "id": "790cf469-f78f-4a80-972c-3ec94e0e894b",
   "metadata": {},
   "outputs": [],
   "source": [
    "import pandas as pd\n",
    "\n",
    "# Load the CSV file\n",
    "project_df = pd.read_csv('Project.csv')\n",
    "\n",
    "# Replace missing cost with running average using a for loop\n",
    "costs = project_df['Cost'].tolist()\n",
    "running_sum = 0\n",
    "count = 0\n",
    "\n",
    "for i in range(len(costs)):\n",
    "    if pd.isna(costs[i]):\n",
    "        if count > 0:\n",
    "            costs[i] = running_sum / count  # Replace with running average\n",
    "        else:\n",
    "            costs[i] = 0  # If first value is NaN, set to 0 or handle separately\n",
    "    running_sum += costs[i]\n",
    "    count += 1\n",
    "\n",
    "# Update the DataFrame and save it\n",
    "project_df['Cost'] = costs\n",
    "project_df.to_csv('Project.csv', index=False)\n"
   ]
  },
  {
   "cell_type": "code",
   "execution_count": 83,
   "id": "be978a54-9e35-4395-ad99-c315ebf40449",
   "metadata": {},
   "outputs": [
    {
     "data": {
      "text/html": [
       "<div>\n",
       "<style scoped>\n",
       "    .dataframe tbody tr th:only-of-type {\n",
       "        vertical-align: middle;\n",
       "    }\n",
       "\n",
       "    .dataframe tbody tr th {\n",
       "        vertical-align: top;\n",
       "    }\n",
       "\n",
       "    .dataframe thead th {\n",
       "        text-align: right;\n",
       "    }\n",
       "</style>\n",
       "<table border=\"1\" class=\"dataframe\">\n",
       "  <thead>\n",
       "    <tr style=\"text-align: right;\">\n",
       "      <th></th>\n",
       "      <th>ID</th>\n",
       "      <th>Project</th>\n",
       "      <th>Cost</th>\n",
       "      <th>Status</th>\n",
       "    </tr>\n",
       "  </thead>\n",
       "  <tbody>\n",
       "    <tr>\n",
       "      <th>0</th>\n",
       "      <td>A001</td>\n",
       "      <td>Project 1</td>\n",
       "      <td>1002000.0</td>\n",
       "      <td>Finished</td>\n",
       "    </tr>\n",
       "    <tr>\n",
       "      <th>1</th>\n",
       "      <td>A002</td>\n",
       "      <td>Project 2</td>\n",
       "      <td>2000000.0</td>\n",
       "      <td>Ongoing</td>\n",
       "    </tr>\n",
       "    <tr>\n",
       "      <th>2</th>\n",
       "      <td>A003</td>\n",
       "      <td>Project 3</td>\n",
       "      <td>4500000.0</td>\n",
       "      <td>Finished</td>\n",
       "    </tr>\n",
       "    <tr>\n",
       "      <th>3</th>\n",
       "      <td>A004</td>\n",
       "      <td>Project 4</td>\n",
       "      <td>5500000.0</td>\n",
       "      <td>Ongoing</td>\n",
       "    </tr>\n",
       "    <tr>\n",
       "      <th>4</th>\n",
       "      <td>A005</td>\n",
       "      <td>Project 5</td>\n",
       "      <td>3250500.0</td>\n",
       "      <td>Finished</td>\n",
       "    </tr>\n",
       "    <tr>\n",
       "      <th>5</th>\n",
       "      <td>A002</td>\n",
       "      <td>Project 6</td>\n",
       "      <td>680000.0</td>\n",
       "      <td>Failed</td>\n",
       "    </tr>\n",
       "    <tr>\n",
       "      <th>6</th>\n",
       "      <td>A005</td>\n",
       "      <td>Project 7</td>\n",
       "      <td>400000.0</td>\n",
       "      <td>Finished</td>\n",
       "    </tr>\n",
       "    <tr>\n",
       "      <th>7</th>\n",
       "      <td>A003</td>\n",
       "      <td>Project 8</td>\n",
       "      <td>350000.0</td>\n",
       "      <td>Failed</td>\n",
       "    </tr>\n",
       "    <tr>\n",
       "      <th>8</th>\n",
       "      <td>A001</td>\n",
       "      <td>Project 9</td>\n",
       "      <td>2210312.5</td>\n",
       "      <td>Ongoing</td>\n",
       "    </tr>\n",
       "    <tr>\n",
       "      <th>9</th>\n",
       "      <td>A003</td>\n",
       "      <td>Project 10</td>\n",
       "      <td>300000.0</td>\n",
       "      <td>Finished</td>\n",
       "    </tr>\n",
       "    <tr>\n",
       "      <th>10</th>\n",
       "      <td>A001</td>\n",
       "      <td>Project 11</td>\n",
       "      <td>2000000.0</td>\n",
       "      <td>Failed</td>\n",
       "    </tr>\n",
       "    <tr>\n",
       "      <th>11</th>\n",
       "      <td>A004</td>\n",
       "      <td>Project 12</td>\n",
       "      <td>1000000.0</td>\n",
       "      <td>Ongoing</td>\n",
       "    </tr>\n",
       "    <tr>\n",
       "      <th>12</th>\n",
       "      <td>A004</td>\n",
       "      <td>Project 13</td>\n",
       "      <td>3000000.0</td>\n",
       "      <td>Finished</td>\n",
       "    </tr>\n",
       "    <tr>\n",
       "      <th>13</th>\n",
       "      <td>A005</td>\n",
       "      <td>Project 14</td>\n",
       "      <td>200000.0</td>\n",
       "      <td>Finished</td>\n",
       "    </tr>\n",
       "  </tbody>\n",
       "</table>\n",
       "</div>"
      ],
      "text/plain": [
       "      ID     Project       Cost    Status\n",
       "0   A001   Project 1  1002000.0  Finished\n",
       "1   A002   Project 2  2000000.0   Ongoing\n",
       "2   A003   Project 3  4500000.0  Finished\n",
       "3   A004   Project 4  5500000.0   Ongoing\n",
       "4   A005   Project 5  3250500.0  Finished\n",
       "5   A002   Project 6   680000.0    Failed\n",
       "6   A005   Project 7   400000.0  Finished\n",
       "7   A003   Project 8   350000.0    Failed\n",
       "8   A001   Project 9  2210312.5   Ongoing\n",
       "9   A003  Project 10   300000.0  Finished\n",
       "10  A001  Project 11  2000000.0    Failed\n",
       "11  A004  Project 12  1000000.0   Ongoing\n",
       "12  A004  Project 13  3000000.0  Finished\n",
       "13  A005  Project 14   200000.0  Finished"
      ]
     },
     "execution_count": 83,
     "metadata": {},
     "output_type": "execute_result"
    }
   ],
   "source": [
    "project_df"
   ]
  },
  {
   "cell_type": "code",
   "execution_count": null,
   "id": "07300c21-c29e-496c-b425-3093fb7af6be",
   "metadata": {},
   "outputs": [],
   "source": [
    "#Task 3:"
   ]
  },
  {
   "cell_type": "code",
   "execution_count": 85,
   "id": "a1ed1ccd-9559-4629-8caf-4d7562118bc6",
   "metadata": {},
   "outputs": [],
   "source": [
    "import pandas as pd\n",
    "\n",
    "# Load the Employee CSV\n",
    "employee_df = pd.read_csv('Employee.csv')\n",
    "\n",
    "# Correct splitting of 'Name' column\n",
    "employee_df[['First Name', 'Last Name']] = employee_df['Name'].str.split(' ', n=1, expand=True)\n",
    "\n",
    "# Drop the original 'Name' column\n",
    "employee_df.drop('Name', axis=1, inplace=True)\n",
    "\n",
    "# Save the modified DataFrame\n",
    "employee_df.to_csv('Employee.csv', index=False)\n"
   ]
  },
  {
   "cell_type": "code",
   "execution_count": 86,
   "id": "d7c3ddcb-3057-4d24-974f-b7b5d3f02527",
   "metadata": {},
   "outputs": [
    {
     "data": {
      "text/html": [
       "<div>\n",
       "<style scoped>\n",
       "    .dataframe tbody tr th:only-of-type {\n",
       "        vertical-align: middle;\n",
       "    }\n",
       "\n",
       "    .dataframe tbody tr th {\n",
       "        vertical-align: top;\n",
       "    }\n",
       "\n",
       "    .dataframe thead th {\n",
       "        text-align: right;\n",
       "    }\n",
       "</style>\n",
       "<table border=\"1\" class=\"dataframe\">\n",
       "  <thead>\n",
       "    <tr style=\"text-align: right;\">\n",
       "      <th></th>\n",
       "      <th>ID</th>\n",
       "      <th>Gender</th>\n",
       "      <th>City</th>\n",
       "      <th>Age</th>\n",
       "      <th>First Name</th>\n",
       "      <th>Last Name</th>\n",
       "    </tr>\n",
       "  </thead>\n",
       "  <tbody>\n",
       "    <tr>\n",
       "      <th>0</th>\n",
       "      <td>A001</td>\n",
       "      <td>M</td>\n",
       "      <td>Paris</td>\n",
       "      <td>25</td>\n",
       "      <td>John</td>\n",
       "      <td>Alter</td>\n",
       "    </tr>\n",
       "    <tr>\n",
       "      <th>1</th>\n",
       "      <td>A002</td>\n",
       "      <td>F</td>\n",
       "      <td>London</td>\n",
       "      <td>27</td>\n",
       "      <td>Alice</td>\n",
       "      <td>Luxumberg</td>\n",
       "    </tr>\n",
       "    <tr>\n",
       "      <th>2</th>\n",
       "      <td>A003</td>\n",
       "      <td>M</td>\n",
       "      <td>Berlin</td>\n",
       "      <td>29</td>\n",
       "      <td>Tom</td>\n",
       "      <td>Sabestine</td>\n",
       "    </tr>\n",
       "    <tr>\n",
       "      <th>3</th>\n",
       "      <td>A004</td>\n",
       "      <td>F</td>\n",
       "      <td>Newyork</td>\n",
       "      <td>31</td>\n",
       "      <td>Nina</td>\n",
       "      <td>Adgra</td>\n",
       "    </tr>\n",
       "    <tr>\n",
       "      <th>4</th>\n",
       "      <td>A005</td>\n",
       "      <td>F</td>\n",
       "      <td>Madrid</td>\n",
       "      <td>30</td>\n",
       "      <td>Amy</td>\n",
       "      <td>Johny</td>\n",
       "    </tr>\n",
       "  </tbody>\n",
       "</table>\n",
       "</div>"
      ],
      "text/plain": [
       "     ID Gender     City  Age First Name  Last Name\n",
       "0  A001      M    Paris   25       John      Alter\n",
       "1  A002      F   London   27      Alice  Luxumberg\n",
       "2  A003      M   Berlin   29        Tom  Sabestine\n",
       "3  A004      F  Newyork   31       Nina      Adgra\n",
       "4  A005      F   Madrid   30        Amy      Johny"
      ]
     },
     "execution_count": 86,
     "metadata": {},
     "output_type": "execute_result"
    }
   ],
   "source": [
    "employee_df"
   ]
  },
  {
   "cell_type": "code",
   "execution_count": null,
   "id": "b1c28f1f-f91b-4d07-b553-c85e4e27b3c3",
   "metadata": {},
   "outputs": [],
   "source": [
    "#Task 4:"
   ]
  },
  {
   "cell_type": "code",
   "execution_count": 87,
   "id": "4d4c8538-08cb-47eb-b7cf-d3f05187c5a2",
   "metadata": {},
   "outputs": [
    {
     "name": "stdout",
     "output_type": "stream",
     "text": [
      "     ID Gender    City  Age First Name  Last Name  Designation Level  \\\n",
      "0  A001      M   Paris   25       John      Alter                  2   \n",
      "1  A001      M   Paris   25       John      Alter                  2   \n",
      "2  A001      M   Paris   25       John      Alter                  2   \n",
      "3  A002      F  London   27      Alice  Luxumberg                  2   \n",
      "4  A002      F  London   27      Alice  Luxumberg                  2   \n",
      "\n",
      "      Project       Cost    Status  \n",
      "0   Project 1  1002000.0  Finished  \n",
      "1   Project 9  2210312.5   Ongoing  \n",
      "2  Project 11  2000000.0    Failed  \n",
      "3   Project 2  2000000.0   Ongoing  \n",
      "4   Project 6   680000.0    Failed  \n"
     ]
    }
   ],
   "source": [
    "import pandas as pd\n",
    "\n",
    "# Load all 3 CSV files\n",
    "employee_df = pd.read_csv('Employee.csv')\n",
    "seniority_df = pd.read_csv('Seniority_Level.csv')\n",
    "project_df = pd.read_csv('Project.csv')\n",
    "\n",
    "# Merge Employee and Seniority on 'ID'\n",
    "emp_seniority = pd.merge(employee_df, seniority_df, on='ID', how='left')\n",
    "\n",
    "# Merge the above with Project on 'ID'\n",
    "final_df = pd.merge(emp_seniority, project_df, on='ID', how='left')\n",
    "\n",
    "# Save Final DataFrame\n",
    "final_df.to_csv('Final.csv', index=False)\n",
    "\n",
    "# Show the first few rows\n",
    "print(final_df.head())\n"
   ]
  },
  {
   "cell_type": "code",
   "execution_count": null,
   "id": "5eb22331-3c5a-4c63-aff0-8e9072bf8751",
   "metadata": {},
   "outputs": [],
   "source": [
    "#Task 5:"
   ]
  },
  {
   "cell_type": "code",
   "execution_count": 88,
   "id": "6420e991-a155-4fdb-a953-76c7f0c08176",
   "metadata": {},
   "outputs": [
    {
     "name": "stdout",
     "output_type": "stream",
     "text": [
      "      ID     Project       Cost    Status     Bonus\n",
      "0   A001   Project 1  1002000.0  Finished   50100.0\n",
      "1   A001   Project 9  2210312.5   Ongoing       0.0\n",
      "2   A001  Project 11  2000000.0    Failed       0.0\n",
      "3   A002   Project 2  2000000.0   Ongoing       0.0\n",
      "4   A002   Project 6   680000.0    Failed       0.0\n",
      "5   A003   Project 3  4500000.0  Finished  225000.0\n",
      "6   A003   Project 8   350000.0    Failed       0.0\n",
      "7   A003  Project 10   300000.0  Finished   15000.0\n",
      "8   A004   Project 4  5500000.0   Ongoing       0.0\n",
      "9   A004  Project 12  1000000.0   Ongoing       0.0\n",
      "10  A004  Project 13  3000000.0  Finished  150000.0\n",
      "11  A005   Project 5  3250500.0  Finished  162525.0\n",
      "12  A005   Project 7   400000.0  Finished   20000.0\n",
      "13  A005  Project 14   200000.0  Finished   10000.0\n"
     ]
    }
   ],
   "source": [
    "import pandas as pd\n",
    "\n",
    "# Load Final DataFrame\n",
    "final_df = pd.read_csv('Final.csv')\n",
    "\n",
    "# Calculate Bonus: 5% of cost if project is finished, else 0\n",
    "final_df['Bonus'] = final_df.apply(\n",
    "    lambda row: 0.05 * row['Cost'] if row['Status'] == 'Finished' else 0,\n",
    "    axis=1\n",
    ")\n",
    "\n",
    "# Save updated Final DataFrame\n",
    "final_df.to_csv('Final.csv', index=False)\n",
    "\n",
    "# Optional: Display updated DataFrame\n",
    "print(final_df[['ID', 'Project', 'Cost', 'Status', 'Bonus']])\n"
   ]
  },
  {
   "cell_type": "code",
   "execution_count": null,
   "id": "e8f36d77-c096-4e68-8cb3-65c1f22b0cdc",
   "metadata": {},
   "outputs": [],
   "source": [
    "#Task 6:"
   ]
  },
  {
   "cell_type": "code",
   "execution_count": 89,
   "id": "158a58f1-02d8-4bf0-8980-8cbcf34aefa8",
   "metadata": {},
   "outputs": [
    {
     "name": "stdout",
     "output_type": "stream",
     "text": [
      "      ID First Name  Designation Level\n",
      "0   A001       John                  3\n",
      "3   A002      Alice                  3\n",
      "5   A003        Tom                  4\n",
      "8   A004       Nina                  2\n",
      "11  A005        Amy                  3\n"
     ]
    },
    {
     "name": "stderr",
     "output_type": "stream",
     "text": [
      "C:\\Users\\vishw\\AppData\\Local\\Temp\\ipykernel_21204\\3579570621.py:13: DeprecationWarning: DataFrameGroupBy.apply operated on the grouping columns. This behavior is deprecated, and in a future version of pandas the grouping columns will be excluded from the operation. Either pass `include_groups=False` to exclude the groupings or explicitly select the grouping columns after groupby to silence this warning.\n",
      "  final_df = final_df.groupby('ID', group_keys=False).apply(apply_demotion)\n"
     ]
    }
   ],
   "source": [
    "import pandas as pd\n",
    "\n",
    "# Load the Final DataFrame\n",
    "final_df = pd.read_csv('Final.csv')\n",
    "\n",
    "# Step 1: Demote by 1 for each failed project\n",
    "# We'll group by ID and apply demotions\n",
    "def apply_demotion(group):\n",
    "    failed_count = (group['Status'] == 'Failed').sum()\n",
    "    group['Designation Level'] = group['Designation Level'] + failed_count  # Increase the number (demotion)\n",
    "    return group\n",
    "\n",
    "final_df = final_df.groupby('ID', group_keys=False).apply(apply_demotion)\n",
    "\n",
    "# Step 2: Remove rows where Designation Level > 4\n",
    "final_df = final_df[final_df['Designation Level'] <= 4]\n",
    "\n",
    "# Save updated Final DataFrame\n",
    "final_df.to_csv('Final.csv', index=False)\n",
    "\n",
    "# Show final output after demotion\n",
    "print(final_df[['ID', 'First Name', 'Designation Level']].drop_duplicates())\n"
   ]
  },
  {
   "cell_type": "code",
   "execution_count": null,
   "id": "a436f133-a4ec-48f7-b04f-daebb2183bd8",
   "metadata": {},
   "outputs": [],
   "source": [
    "#Task 7:"
   ]
  },
  {
   "cell_type": "code",
   "execution_count": 90,
   "id": "82b74b3e-3352-4953-aa99-2eaf3e302e0b",
   "metadata": {},
   "outputs": [
    {
     "name": "stdout",
     "output_type": "stream",
     "text": [
      "      ID  First Name  Last Name\n",
      "0   A001    Mr. John      Alter\n",
      "3   A002  Mrs. Alice  Luxumberg\n",
      "5   A003     Mr. Tom  Sabestine\n",
      "8   A004   Mrs. Nina      Adgra\n",
      "11  A005    Mrs. Amy      Johny\n"
     ]
    }
   ],
   "source": [
    "import pandas as pd\n",
    "\n",
    "# Load Final DataFrame\n",
    "final_df = pd.read_csv('Final.csv')\n",
    "\n",
    "# Step 1: Add prefix based on Gender\n",
    "def add_title(row):\n",
    "    if row['Gender'] == 'M':\n",
    "        return 'Mr. ' + row['First Name']\n",
    "    elif row['Gender'] == 'F':\n",
    "        return 'Mrs. ' + row['First Name']\n",
    "    else:\n",
    "        return row['First Name']\n",
    "\n",
    "final_df['First Name'] = final_df.apply(add_title, axis=1)\n",
    "\n",
    "# Step 2: Drop Gender column\n",
    "final_df.drop('Gender', axis=1, inplace=True)\n",
    "\n",
    "# Save updated Final DataFrame\n",
    "final_df.to_csv('Final.csv', index=False)\n",
    "\n",
    "# Optional: Show preview\n",
    "print(final_df[['ID', 'First Name', 'Last Name']].drop_duplicates())\n"
   ]
  },
  {
   "cell_type": "code",
   "execution_count": null,
   "id": "b9ce6f00-0f85-4fc2-8e28-1b1adc6802b6",
   "metadata": {},
   "outputs": [],
   "source": [
    "#Task 8:"
   ]
  },
  {
   "cell_type": "code",
   "execution_count": 91,
   "id": "9d98d3d6-042b-4f0d-b6fc-f6c310337f2b",
   "metadata": {},
   "outputs": [
    {
     "name": "stdout",
     "output_type": "stream",
     "text": [
      "      ID  First Name  Age  Designation Level\n",
      "0   A001    Mr. John   25                  3\n",
      "3   A002  Mrs. Alice   27                  3\n",
      "5   A003     Mr. Tom   29                  4\n",
      "8   A004   Mrs. Nina   31                  1\n",
      "11  A005    Mrs. Amy   30                  2\n"
     ]
    },
    {
     "name": "stderr",
     "output_type": "stream",
     "text": [
      "C:\\Users\\vishw\\AppData\\Local\\Temp\\ipykernel_21204\\1969479705.py:12: DeprecationWarning: DataFrameGroupBy.apply operated on the grouping columns. This behavior is deprecated, and in a future version of pandas the grouping columns will be excluded from the operation. Either pass `include_groups=False` to exclude the groupings or explicitly select the grouping columns after groupby to silence this warning.\n",
      "  final_df = final_df.groupby('ID', group_keys=False).apply(promote_designation)\n"
     ]
    }
   ],
   "source": [
    "import pandas as pd\n",
    "\n",
    "# Load Final DataFrame\n",
    "final_df = pd.read_csv('Final.csv')\n",
    "\n",
    "# Apply promotion only once per employee based on Age\n",
    "def promote_designation(group):\n",
    "    if group['Age'].iloc[0] > 29:\n",
    "        group['Designation Level'] = group['Designation Level'].apply(lambda x: max(1, x - 1))\n",
    "    return group\n",
    "\n",
    "final_df = final_df.groupby('ID', group_keys=False).apply(promote_designation)\n",
    "\n",
    "# Save updated Final DataFrame\n",
    "final_df.to_csv('Final.csv', index=False)\n",
    "\n",
    "# Optional: Show affected entries\n",
    "print(final_df[['ID', 'First Name', 'Age', 'Designation Level']].drop_duplicates())\n"
   ]
  },
  {
   "cell_type": "code",
   "execution_count": null,
   "id": "8a117e8d-e3b9-4d8e-b09c-f0f4affd5988",
   "metadata": {},
   "outputs": [],
   "source": [
    "#Task 9:"
   ]
  },
  {
   "cell_type": "code",
   "execution_count": 92,
   "id": "2a1a6369-7014-485a-bb56-d27bf0855a82",
   "metadata": {},
   "outputs": [
    {
     "name": "stdout",
     "output_type": "stream",
     "text": [
      "     ID  First Name  Total cost\n",
      "0  A001    Mr. John   5212312.5\n",
      "1  A002  Mrs. Alice   2680000.0\n",
      "2  A003     Mr. Tom   5150000.0\n",
      "3  A004   Mrs. Nina   9500000.0\n",
      "4  A005    Mrs. Amy   3850500.0\n"
     ]
    }
   ],
   "source": [
    "import pandas as pd\n",
    "\n",
    "# Load the Final DataFrame\n",
    "final_df = pd.read_csv('Final.csv')\n",
    "\n",
    "# Group by ID and sum the project cost\n",
    "cost_df = final_df.groupby('ID', as_index=False)['Cost'].sum()\n",
    "cost_df.rename(columns={'Cost': 'Total cost'}, inplace=True)\n",
    "\n",
    "# Get distinct First Names from Final DataFrame\n",
    "first_names_df = final_df[['ID', 'First Name']].drop_duplicates()\n",
    "\n",
    "# Merge to get First Name\n",
    "total_proj_cost_df = pd.merge(cost_df, first_names_df, on='ID')\n",
    "\n",
    "# Reorder columns\n",
    "total_proj_cost_df = total_proj_cost_df[['ID', 'First Name', 'Total cost']]\n",
    "\n",
    "# Save the new DataFrame\n",
    "total_proj_cost_df.to_csv('TotalProjCost.csv', index=False)\n",
    "\n",
    "# Display result\n",
    "print(total_proj_cost_df)\n"
   ]
  },
  {
   "cell_type": "code",
   "execution_count": null,
   "id": "53ef0dc0-cd0c-47db-88a3-42adf5c6d8ad",
   "metadata": {},
   "outputs": [],
   "source": [
    "#Task 10:"
   ]
  },
  {
   "cell_type": "code",
   "execution_count": 93,
   "id": "4387d1f5-8e2f-4657-b4c8-92dcab667308",
   "metadata": {},
   "outputs": [
    {
     "name": "stdout",
     "output_type": "stream",
     "text": [
      "      ID     City  Age  First Name  Last Name  Designation Level     Project  \\\n",
      "3   A002   London   27  Mrs. Alice  Luxumberg                  3   Project 2   \n",
      "4   A002   London   27  Mrs. Alice  Luxumberg                  3   Project 6   \n",
      "8   A004  Newyork   31   Mrs. Nina      Adgra                  1   Project 4   \n",
      "9   A004  Newyork   31   Mrs. Nina      Adgra                  1  Project 12   \n",
      "10  A004  Newyork   31   Mrs. Nina      Adgra                  1  Project 13   \n",
      "\n",
      "         Cost    Status     Bonus  \n",
      "3   2000000.0   Ongoing       0.0  \n",
      "4    680000.0    Failed       0.0  \n",
      "8   5500000.0   Ongoing       0.0  \n",
      "9   1000000.0   Ongoing       0.0  \n",
      "10  3000000.0  Finished  150000.0  \n"
     ]
    }
   ],
   "source": [
    "import pandas as pd\n",
    "\n",
    "# Load the Final DataFrame\n",
    "final_df = pd.read_csv('Final.csv')\n",
    "\n",
    "# Filter rows where 'City' contains the letter 'o' (case-insensitive)\n",
    "filtered_df = final_df[final_df['City'].str.contains('o', case=False)]\n",
    "\n",
    "# Optional: Drop duplicates if you only want one record per employee\n",
    "# filtered_df = filtered_df.drop_duplicates(subset='ID')\n",
    "\n",
    "# Display the result\n",
    "print(filtered_df)\n"
   ]
  },
  {
   "cell_type": "code",
   "execution_count": null,
   "id": "5e59b215-865e-4aeb-ab92-d4cbc870bcbb",
   "metadata": {},
   "outputs": [],
   "source": []
  }
 ],
 "metadata": {
  "kernelspec": {
   "display_name": "Python [conda env:base] *",
   "language": "python",
   "name": "conda-base-py"
  },
  "language_info": {
   "codemirror_mode": {
    "name": "ipython",
    "version": 3
   },
   "file_extension": ".py",
   "mimetype": "text/x-python",
   "name": "python",
   "nbconvert_exporter": "python",
   "pygments_lexer": "ipython3",
   "version": "3.12.7"
  }
 },
 "nbformat": 4,
 "nbformat_minor": 5
}
